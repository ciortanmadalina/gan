{
 "cells": [
  {
   "cell_type": "code",
   "execution_count": 76,
   "metadata": {},
   "outputs": [],
   "source": [
    "import tensorflow as tf\n",
    "import keras\n",
    "import numpy as np\n",
    "from keras.layers import *\n",
    "from keras.models import *\n",
    "from numpy import newaxis\n",
    "from keras import backend as K"
   ]
  },
  {
   "cell_type": "code",
   "execution_count": 12,
   "metadata": {},
   "outputs": [
    {
     "data": {
      "text/plain": [
       "(2, 2)"
      ]
     },
     "execution_count": 12,
     "metadata": {},
     "output_type": "execute_result"
    }
   ],
   "source": [
    "m1 = np.array([[1,5], [2,2]])\n",
    "m2 = np.array([[2,6], [3,3]])\n",
    "m1.shape"
   ]
  },
  {
   "cell_type": "code",
   "execution_count": 83,
   "metadata": {},
   "outputs": [
    {
     "data": {
      "text/plain": [
       "(2,)"
      ]
     },
     "execution_count": 83,
     "metadata": {},
     "output_type": "execute_result"
    }
   ],
   "source": [
    "# inputs\n",
    "i1 = np.array([1,5], dtype=np.float32)\n",
    "i2 = np.array([2,6], dtype=np.float32)\n",
    "i3 = np.array([3,7], dtype=np.float32)\n",
    "i4 = np.array([4,8], dtype=np.float32)\n",
    "i5 = np.array([4,9], dtype=np.float32)\n",
    "i1.shape"
   ]
  },
  {
   "cell_type": "code",
   "execution_count": 82,
   "metadata": {},
   "outputs": [
    {
     "data": {
      "text/plain": [
       "dtype('int32')"
      ]
     },
     "execution_count": 82,
     "metadata": {},
     "output_type": "execute_result"
    }
   ],
   "source": [
    "i5.dtype\n"
   ]
  },
  {
   "cell_type": "code",
   "execution_count": 56,
   "metadata": {},
   "outputs": [
    {
     "data": {
      "text/plain": [
       "(1, 2, 2)"
      ]
     },
     "execution_count": 56,
     "metadata": {},
     "output_type": "execute_result"
    }
   ],
   "source": [
    "np.stack(m1).shape\n",
    "m2[newaxis, :,:].shape\n",
    "print(\"x(+)\", x.predict([m1[newaxis, :,:], m2[newaxis, :,:]]))"
   ]
  },
  {
   "cell_type": "code",
   "execution_count": 84,
   "metadata": {},
   "outputs": [
    {
     "name": "stdout",
     "output_type": "stream",
     "text": [
      "____________________________________________________________________________________________________\n",
      "Layer (type)                     Output Shape          Param #     Connected to                     \n",
      "====================================================================================================\n",
      "input_64 (InputLayer)            (None, 1)             0                                            \n",
      "____________________________________________________________________________________________________\n",
      "input_65 (InputLayer)            (None, 1)             0                                            \n",
      "____________________________________________________________________________________________________\n",
      "add_16 (Add)                     (None, 1)             0           input_64[0][0]                   \n",
      "                                                                   input_65[0][0]                   \n",
      "====================================================================================================\n",
      "Total params: 0\n",
      "Trainable params: 0\n",
      "Non-trainable params: 0\n",
      "____________________________________________________________________________________________________\n"
     ]
    }
   ],
   "source": [
    "# first network (simple addition of value)\n",
    "xA = Input((1,))\n",
    "xB = Input((1,))\n",
    "xOut = keras.layers.Add()([xA,xB]) \n",
    "x = Model([xA, xB], xOut)\n",
    "\n",
    "x.summary()"
   ]
  },
  {
   "cell_type": "code",
   "execution_count": 85,
   "metadata": {},
   "outputs": [
    {
     "name": "stdout",
     "output_type": "stream",
     "text": [
      "x(+) [[  5.]\n",
      " [ 13.]]\n"
     ]
    }
   ],
   "source": [
    "print(\"x(+)\", x.predict([i2, i3]))"
   ]
  },
  {
   "cell_type": "code",
   "execution_count": 86,
   "metadata": {},
   "outputs": [
    {
     "name": "stdout",
     "output_type": "stream",
     "text": [
      "____________________________________________________________________________________________________\n",
      "Layer (type)                     Output Shape          Param #     Connected to                     \n",
      "====================================================================================================\n",
      "input_66 (InputLayer)            (None, 1)             0                                            \n",
      "____________________________________________________________________________________________________\n",
      "input_67 (InputLayer)            (None, 1)             0                                            \n",
      "____________________________________________________________________________________________________\n",
      "multiply_3 (Multiply)            (None, 1)             0           input_66[0][0]                   \n",
      "                                                                   input_67[0][0]                   \n",
      "====================================================================================================\n",
      "Total params: 0\n",
      "Trainable params: 0\n",
      "Non-trainable params: 0\n",
      "____________________________________________________________________________________________________\n",
      "None\n",
      "y(*) [[ 16.]\n",
      " [ 72.]]\n"
     ]
    }
   ],
   "source": [
    "# second network (simple multiplicaiton of values)\n",
    "yA = Input((1,))\n",
    "yB = Input((1,))\n",
    "yOut = keras.layers.Multiply()([yA,yB])\n",
    "y = Model([yA, yB], yOut)\n",
    "print(y.summary())\n",
    "print(\"y(*)\", y.predict([i4, i5]))"
   ]
  },
  {
   "cell_type": "code",
   "execution_count": 87,
   "metadata": {},
   "outputs": [
    {
     "name": "stdout",
     "output_type": "stream",
     "text": [
      "x->y [[ 15.]\n",
      " [ 91.]]\n"
     ]
    }
   ],
   "source": [
    "print(\"x->y\", y.predict([x.predict([i2, i3]),i3]))"
   ]
  },
  {
   "cell_type": "code",
   "execution_count": 108,
   "metadata": {},
   "outputs": [
    {
     "name": "stdout",
     "output_type": "stream",
     "text": [
      "____________________________________________________________________________________________________\n",
      "Layer (type)                     Output Shape          Param #     Connected to                     \n",
      "====================================================================================================\n",
      "input_108 (InputLayer)           (None, 1)             0                                            \n",
      "____________________________________________________________________________________________________\n",
      "input_109 (InputLayer)           (None, 1)             0                                            \n",
      "____________________________________________________________________________________________________\n",
      "lambda_17 (Lambda)               (None, 1)             0           input_108[0][0]                  \n",
      "                                                                   input_109[0][0]                  \n",
      "====================================================================================================\n",
      "Total params: 0\n",
      "Trainable params: 0\n",
      "Non-trainable params: 0\n",
      "____________________________________________________________________________________________________\n",
      "None\n",
      "x->z [[ 15.]\n",
      " [ 39.]]\n"
     ]
    }
   ],
   "source": [
    "K.set_learning_phase(1)\n",
    "# same as second, with a 'static' value\n",
    "zA = Input((1,))\n",
    "zB = Input((1,))\n",
    "zOut = Lambda(lambda z: z[0] * z[1][0])([zA, zB]) # multiply by a static value in the input\n",
    "z = Model([zA, zB], zOut)\n",
    "\n",
    "print(z.summary())\n",
    "\n",
    "print(\"x->z\", z.predict([x.predict([i2, i3]),i3]))\n"
   ]
  },
  {
   "cell_type": "code",
   "execution_count": 89,
   "metadata": {},
   "outputs": [
    {
     "name": "stdout",
     "output_type": "stream",
     "text": [
      "____________________________________________________________________________________________________\n",
      "Layer (type)                     Output Shape          Param #     Connected to                     \n",
      "====================================================================================================\n",
      "input_70 (InputLayer)            (None, 1)             0                                            \n",
      "____________________________________________________________________________________________________\n",
      "input_71 (InputLayer)            (None, 1)             0                                            \n",
      "____________________________________________________________________________________________________\n",
      "model_32 (Model)                 (None, 1)             0           input_70[0][0]                   \n",
      "                                                                   input_71[0][0]                   \n",
      "____________________________________________________________________________________________________\n",
      "model_33 (Model)                 (None, 1)             0           model_32[1][0]                   \n",
      "                                                                   input_71[0][0]                   \n",
      "====================================================================================================\n",
      "Total params: 0\n",
      "Trainable params: 0\n",
      "Non-trainable params: 0\n",
      "____________________________________________________________________________________________________\n",
      "None\n",
      "xy [[ 15.]\n",
      " [ 91.]]\n"
     ]
    }
   ],
   "source": [
    "# create new chained models with the same order\n",
    "xyA = Input((1,))\n",
    "xyB = Input((1,))\n",
    "xy = Model([xyA, xyB], y([x([xyA, xyB]), xyB]))\n",
    "print(xy.summary())\n",
    "print(\"xy\", xy.predict([i2, i3]))\n"
   ]
  },
  {
   "cell_type": "code",
   "execution_count": 109,
   "metadata": {},
   "outputs": [
    {
     "name": "stdout",
     "output_type": "stream",
     "text": [
      "____________________________________________________________________________________________________\n",
      "Layer (type)                     Output Shape          Param #     Connected to                     \n",
      "====================================================================================================\n",
      "input_70 (InputLayer)            (None, 1)             0                                            \n",
      "____________________________________________________________________________________________________\n",
      "input_71 (InputLayer)            (None, 1)             0                                            \n",
      "____________________________________________________________________________________________________\n",
      "model_32 (Model)                 (None, 1)             0           input_70[0][0]                   \n",
      "                                                                   input_71[0][0]                   \n",
      "____________________________________________________________________________________________________\n",
      "model_33 (Model)                 (None, 1)             0           model_32[1][0]                   \n",
      "                                                                   input_71[0][0]                   \n",
      "====================================================================================================\n",
      "Total params: 0\n",
      "Trainable params: 0\n",
      "Non-trainable params: 0\n",
      "____________________________________________________________________________________________________\n",
      "None\n",
      "xz [[ 15.]\n",
      " [ 39.]]\n"
     ]
    }
   ],
   "source": [
    "xzA = Input((1,))\n",
    "xzB = Input((1,))\n",
    "print(xy.summary())\n",
    "xz = Model([xzA, xzB], z([x([xzA, xzB]), xzB]))\n",
    "print(\"xz\", xz.predict([i2, i3])) # <-- complains about missing input"
   ]
  },
  {
   "cell_type": "code",
   "execution_count": null,
   "metadata": {
    "collapsed": true
   },
   "outputs": [],
   "source": []
  },
  {
   "cell_type": "code",
   "execution_count": null,
   "metadata": {
    "collapsed": true
   },
   "outputs": [],
   "source": []
  },
  {
   "cell_type": "code",
   "execution_count": null,
   "metadata": {
    "collapsed": true
   },
   "outputs": [],
   "source": []
  },
  {
   "cell_type": "code",
   "execution_count": null,
   "metadata": {
    "collapsed": true
   },
   "outputs": [],
   "source": []
  },
  {
   "cell_type": "code",
   "execution_count": null,
   "metadata": {
    "collapsed": true
   },
   "outputs": [],
   "source": []
  },
  {
   "cell_type": "code",
   "execution_count": null,
   "metadata": {
    "collapsed": true
   },
   "outputs": [],
   "source": []
  },
  {
   "cell_type": "code",
   "execution_count": null,
   "metadata": {
    "collapsed": true
   },
   "outputs": [],
   "source": []
  },
  {
   "cell_type": "code",
   "execution_count": null,
   "metadata": {
    "collapsed": true
   },
   "outputs": [],
   "source": []
  },
  {
   "cell_type": "code",
   "execution_count": null,
   "metadata": {
    "collapsed": true
   },
   "outputs": [],
   "source": []
  },
  {
   "cell_type": "code",
   "execution_count": null,
   "metadata": {
    "collapsed": true
   },
   "outputs": [],
   "source": []
  },
  {
   "cell_type": "code",
   "execution_count": null,
   "metadata": {
    "collapsed": true
   },
   "outputs": [],
   "source": []
  },
  {
   "cell_type": "code",
   "execution_count": null,
   "metadata": {
    "collapsed": true
   },
   "outputs": [],
   "source": []
  }
 ],
 "metadata": {
  "kernelspec": {
   "display_name": "Python 3",
   "language": "python",
   "name": "python3"
  },
  "language_info": {
   "codemirror_mode": {
    "name": "ipython",
    "version": 3
   },
   "file_extension": ".py",
   "mimetype": "text/x-python",
   "name": "python",
   "nbconvert_exporter": "python",
   "pygments_lexer": "ipython3",
   "version": "3.5.3"
  }
 },
 "nbformat": 4,
 "nbformat_minor": 2
}
